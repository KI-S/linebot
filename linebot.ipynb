{
  "nbformat": 4,
  "nbformat_minor": 0,
  "metadata": {
    "colab": {
      "provenance": []
    },
    "kernelspec": {
      "name": "python3",
      "display_name": "Python 3"
    },
    "language_info": {
      "name": "python"
    }
  },
  "cells": [
    {
      "cell_type": "markdown",
      "source": [
        "## init install"
      ],
      "metadata": {
        "id": "EICxvcMHLXDR"
      }
    },
    {
      "cell_type": "code",
      "execution_count": 2,
      "metadata": {
        "colab": {
          "base_uri": "https://localhost:8080/"
        },
        "id": "1L8ouq9eLPyv",
        "outputId": "4738dd82-9b21-4e62-ff8b-d456314278fb"
      },
      "outputs": [
        {
          "output_type": "stream",
          "name": "stdout",
          "text": [
            "Looking in indexes: https://pypi.org/simple, https://us-python.pkg.dev/colab-wheels/public/simple/\n",
            "Collecting django\n",
            "  Downloading Django-4.1.4-py3-none-any.whl (8.1 MB)\n",
            "\u001b[K     |████████████████████████████████| 8.1 MB 4.4 MB/s \n",
            "\u001b[?25hCollecting backports.zoneinfo\n",
            "  Downloading backports.zoneinfo-0.2.1-cp38-cp38-manylinux1_x86_64.whl (74 kB)\n",
            "\u001b[K     |████████████████████████████████| 74 kB 2.6 MB/s \n",
            "\u001b[?25hCollecting asgiref<4,>=3.5.2\n",
            "  Downloading asgiref-3.6.0-py3-none-any.whl (23 kB)\n",
            "Requirement already satisfied: sqlparse>=0.2.2 in /usr/local/lib/python3.8/dist-packages (from django) (0.4.3)\n",
            "Installing collected packages: backports.zoneinfo, asgiref, django\n",
            "Successfully installed asgiref-3.6.0 backports.zoneinfo-0.2.1 django-4.1.4\n",
            "Looking in indexes: https://pypi.org/simple, https://us-python.pkg.dev/colab-wheels/public/simple/\n",
            "Collecting line-bot-sdk\n",
            "  Downloading line_bot_sdk-2.3.0-py2.py3-none-any.whl (88 kB)\n",
            "\u001b[K     |████████████████████████████████| 88 kB 3.6 MB/s \n",
            "\u001b[?25hRequirement already satisfied: aiohttp>=3.7.4 in /usr/local/lib/python3.8/dist-packages (from line-bot-sdk) (3.8.3)\n",
            "Requirement already satisfied: future in /usr/local/lib/python3.8/dist-packages (from line-bot-sdk) (0.16.0)\n",
            "Requirement already satisfied: requests>=2.0 in /usr/local/lib/python3.8/dist-packages (from line-bot-sdk) (2.23.0)\n",
            "Requirement already satisfied: frozenlist>=1.1.1 in /usr/local/lib/python3.8/dist-packages (from aiohttp>=3.7.4->line-bot-sdk) (1.3.3)\n",
            "Requirement already satisfied: multidict<7.0,>=4.5 in /usr/local/lib/python3.8/dist-packages (from aiohttp>=3.7.4->line-bot-sdk) (6.0.3)\n",
            "Requirement already satisfied: aiosignal>=1.1.2 in /usr/local/lib/python3.8/dist-packages (from aiohttp>=3.7.4->line-bot-sdk) (1.3.1)\n",
            "Requirement already satisfied: charset-normalizer<3.0,>=2.0 in /usr/local/lib/python3.8/dist-packages (from aiohttp>=3.7.4->line-bot-sdk) (2.1.1)\n",
            "Requirement already satisfied: yarl<2.0,>=1.0 in /usr/local/lib/python3.8/dist-packages (from aiohttp>=3.7.4->line-bot-sdk) (1.8.2)\n",
            "Requirement already satisfied: async-timeout<5.0,>=4.0.0a3 in /usr/local/lib/python3.8/dist-packages (from aiohttp>=3.7.4->line-bot-sdk) (4.0.2)\n",
            "Requirement already satisfied: attrs>=17.3.0 in /usr/local/lib/python3.8/dist-packages (from aiohttp>=3.7.4->line-bot-sdk) (22.1.0)\n",
            "Requirement already satisfied: idna<3,>=2.5 in /usr/local/lib/python3.8/dist-packages (from requests>=2.0->line-bot-sdk) (2.10)\n",
            "Requirement already satisfied: certifi>=2017.4.17 in /usr/local/lib/python3.8/dist-packages (from requests>=2.0->line-bot-sdk) (2022.12.7)\n",
            "Requirement already satisfied: urllib3!=1.25.0,!=1.25.1,<1.26,>=1.21.1 in /usr/local/lib/python3.8/dist-packages (from requests>=2.0->line-bot-sdk) (1.24.3)\n",
            "Requirement already satisfied: chardet<4,>=3.0.2 in /usr/local/lib/python3.8/dist-packages (from requests>=2.0->line-bot-sdk) (3.0.4)\n",
            "Installing collected packages: line-bot-sdk\n",
            "Successfully installed line-bot-sdk-2.3.0\n",
            "Looking in indexes: https://pypi.org/simple, https://us-python.pkg.dev/colab-wheels/public/simple/\n",
            "Requirement already satisfied: beautifulsoup4 in /usr/local/lib/python3.8/dist-packages (4.6.3)\n",
            "Looking in indexes: https://pypi.org/simple, https://us-python.pkg.dev/colab-wheels/public/simple/\n",
            "Requirement already satisfied: requests in /usr/local/lib/python3.8/dist-packages (2.23.0)\n",
            "Requirement already satisfied: chardet<4,>=3.0.2 in /usr/local/lib/python3.8/dist-packages (from requests) (3.0.4)\n",
            "Requirement already satisfied: idna<3,>=2.5 in /usr/local/lib/python3.8/dist-packages (from requests) (2.10)\n",
            "Requirement already satisfied: certifi>=2017.4.17 in /usr/local/lib/python3.8/dist-packages (from requests) (2022.12.7)\n",
            "Requirement already satisfied: urllib3!=1.25.0,!=1.25.1,<1.26,>=1.21.1 in /usr/local/lib/python3.8/dist-packages (from requests) (1.24.3)\n",
            "Looking in indexes: https://pypi.org/simple, https://us-python.pkg.dev/colab-wheels/public/simple/\n",
            "Collecting transitions\n",
            "  Downloading transitions-0.9.0-py2.py3-none-any.whl (97 kB)\n",
            "\u001b[K     |████████████████████████████████| 97 kB 3.0 MB/s \n",
            "\u001b[?25hRequirement already satisfied: six in /usr/local/lib/python3.8/dist-packages (from transitions) (1.15.0)\n",
            "Installing collected packages: transitions\n",
            "Successfully installed transitions-0.9.0\n"
          ]
        }
      ],
      "source": [
        "!pip install django\n",
        "!pip install line-bot-sdk\n",
        "!pip install beautifulsoup4\n",
        "!pip install requests\n",
        "!pip install transitions"
      ]
    },
    {
      "cell_type": "markdown",
      "source": [
        "## load google drive and creat ngrok file"
      ],
      "metadata": {
        "id": "B74ZHc9WLeCh"
      }
    },
    {
      "cell_type": "code",
      "source": [
        "from google.colab import drive\n",
        "drive.mount('/content/drive', force_remount=True)\n",
        "\n",
        "!mkdir -p /drive\n",
        "#umount /drive\n",
        "!mount --bind /content/drive/My\\ Drive /drive\n",
        "!mkdir -p /drive/ngrok-ssh\n",
        "!mkdir -p ~/.ssh\n",
        "\n",
        "!mkdir -p /drive/ngrok-ssh\n",
        "%cd /drive/ngrok-ssh\n",
        "!wget https://bin.equinox.io/c/4VmDzA7iaHb/ngrok-stable-linux-amd64.zip -O ngrok-stable-linux-amd64.zip\n",
        "!unzip -u ngrok-stable-linux-amd64.zip\n",
        "!cp /drive/ngrok-ssh/ngrok /ngrok\n",
        "!chmod +x /ngrok"
      ],
      "metadata": {
        "colab": {
          "base_uri": "https://localhost:8080/"
        },
        "id": "EteTsZQPLWoo",
        "outputId": "cb0a5983-673f-4d71-b377-d1becbcd5418"
      },
      "execution_count": 3,
      "outputs": [
        {
          "output_type": "stream",
          "name": "stdout",
          "text": [
            "Mounted at /content/drive\n",
            "/drive/ngrok-ssh\n",
            "--2022-12-23 14:11:58--  https://bin.equinox.io/c/4VmDzA7iaHb/ngrok-stable-linux-amd64.zip\n",
            "Resolving bin.equinox.io (bin.equinox.io)... 18.205.222.128, 54.237.133.81, 52.202.168.65, ...\n",
            "Connecting to bin.equinox.io (bin.equinox.io)|18.205.222.128|:443... connected.\n",
            "HTTP request sent, awaiting response... 200 OK\n",
            "Length: 13832437 (13M) [application/octet-stream]\n",
            "Saving to: ‘ngrok-stable-linux-amd64.zip’\n",
            "\n",
            "ngrok-stable-linux- 100%[===================>]  13.19M  32.9MB/s    in 0.4s    \n",
            "\n",
            "2022-12-23 14:11:58 (32.9 MB/s) - ‘ngrok-stable-linux-amd64.zip’ saved [13832437/13832437]\n",
            "\n",
            "Archive:  ngrok-stable-linux-amd64.zip\n"
          ]
        }
      ]
    },
    {
      "cell_type": "markdown",
      "source": [
        "## ngrok"
      ],
      "metadata": {
        "id": "Xi5BluomLolZ"
      }
    },
    {
      "cell_type": "code",
      "source": [
        "!/ngrok authtoken 2JARutcFOzH6UTqWcwl5byNtTEh_3xyGd9rVQuHe9zTVNcyXt\n",
        "!pip install flask_ngrok"
      ],
      "metadata": {
        "colab": {
          "base_uri": "https://localhost:8080/"
        },
        "id": "DquuJ7oZLwoc",
        "outputId": "3b7923b7-fc5f-443b-ad44-79236b1c69f4"
      },
      "execution_count": 4,
      "outputs": [
        {
          "output_type": "stream",
          "name": "stdout",
          "text": [
            "Authtoken saved to configuration file: /root/.ngrok2/ngrok.yml\n",
            "Looking in indexes: https://pypi.org/simple, https://us-python.pkg.dev/colab-wheels/public/simple/\n",
            "Collecting flask_ngrok\n",
            "  Downloading flask_ngrok-0.0.25-py3-none-any.whl (3.1 kB)\n",
            "Requirement already satisfied: Flask>=0.8 in /usr/local/lib/python3.8/dist-packages (from flask_ngrok) (1.1.4)\n",
            "Requirement already satisfied: requests in /usr/local/lib/python3.8/dist-packages (from flask_ngrok) (2.23.0)\n",
            "Requirement already satisfied: Werkzeug<2.0,>=0.15 in /usr/local/lib/python3.8/dist-packages (from Flask>=0.8->flask_ngrok) (1.0.1)\n",
            "Requirement already satisfied: click<8.0,>=5.1 in /usr/local/lib/python3.8/dist-packages (from Flask>=0.8->flask_ngrok) (7.1.2)\n",
            "Requirement already satisfied: itsdangerous<2.0,>=0.24 in /usr/local/lib/python3.8/dist-packages (from Flask>=0.8->flask_ngrok) (1.1.0)\n",
            "Requirement already satisfied: Jinja2<3.0,>=2.10.1 in /usr/local/lib/python3.8/dist-packages (from Flask>=0.8->flask_ngrok) (2.11.3)\n",
            "Requirement already satisfied: MarkupSafe>=0.23 in /usr/local/lib/python3.8/dist-packages (from Jinja2<3.0,>=2.10.1->Flask>=0.8->flask_ngrok) (2.0.1)\n",
            "Requirement already satisfied: certifi>=2017.4.17 in /usr/local/lib/python3.8/dist-packages (from requests->flask_ngrok) (2022.12.7)\n",
            "Requirement already satisfied: urllib3!=1.25.0,!=1.25.1,<1.26,>=1.21.1 in /usr/local/lib/python3.8/dist-packages (from requests->flask_ngrok) (1.24.3)\n",
            "Requirement already satisfied: chardet<4,>=3.0.2 in /usr/local/lib/python3.8/dist-packages (from requests->flask_ngrok) (3.0.4)\n",
            "Requirement already satisfied: idna<3,>=2.5 in /usr/local/lib/python3.8/dist-packages (from requests->flask_ngrok) (2.10)\n",
            "Installing collected packages: flask-ngrok\n",
            "Successfully installed flask-ngrok-0.0.25\n"
          ]
        }
      ]
    },
    {
      "cell_type": "markdown",
      "source": [
        "## linebot token and access"
      ],
      "metadata": {
        "id": "UbmdSTseLyvQ"
      }
    },
    {
      "cell_type": "code",
      "source": [
        "access_token = '093OyYqGonM6q3yRXZcRg5WtTP0m3P7ia1WuwgcP91lYqaHb6Bx1sbW2G5YayruFh+hJyTOjdWECR0zFDBgRyieQU/vLUFDqHs2Z+lyKfuj7ZSRycGgxV8wSDZxlWgR/wSvqKSucv80Be0TGqUFkRwdB04t89/1O/w1cDnyilFU='\n",
        "secret = 'bf79fc94041fac8f854c411bc57ed460'"
      ],
      "metadata": {
        "id": "I7woTgmQL6WT"
      },
      "execution_count": 5,
      "outputs": []
    },
    {
      "cell_type": "markdown",
      "source": [
        "## fsm function"
      ],
      "metadata": {
        "id": "Em_FYTmSL7xg"
      }
    },
    {
      "cell_type": "code",
      "source": [
        "from zmq.constants import TCP_KEEPALIVE_CNT\n",
        "from transitions.extensions import GraphMachine\n",
        "\n",
        "class TocMachine(GraphMachine):\n",
        "    def __init__(self, **machine_configs):\n",
        "        self.machine = GraphMachine(model=self, **machine_configs)\n",
        "\n",
        "    def is_going_to_reserve(self, event):\n",
        "        text = event['message']['text']\n",
        "        return text.lower() == \"reserve\"\n",
        "\n",
        "    def is_going_to_cancel(self, event):\n",
        "        text = event['message']['text']\n",
        "        return text.lower() == \"cancel\"\n",
        "\n",
        "    def is_going_to_help(self, event):\n",
        "        text = event['message']['text']\n",
        "        return text.lower() == \"help\"\n",
        "\n",
        "    def on_enter_reserve(self, event):\n",
        "        print(\"I'm entering reserve\")\n",
        "        line_bot_api = LineBotApi(access_token)\n",
        "        reply_token = event['replyToken']\n",
        "        line_bot_api.reply_message(reply_token, TextSendMessage(text=\"Trigger reserve\"))\n",
        "        self.go_back()\n",
        "\n",
        "    def on_exit_reserve(self):\n",
        "        print(\"Leaving reserve\")\n",
        "\n",
        "    def on_enter_cancel(self, event):\n",
        "        print(\"I'm entering cancel\")\n",
        "        line_bot_api = LineBotApi(access_token)\n",
        "        reply_token = event['replyToken']\n",
        "        line_bot_api.reply_message(reply_token, TextSendMessage(\"Trigger cancel\"))\n",
        "        self.go_back()\n",
        "\n",
        "    def on_enter_help(self, event):\n",
        "        print(\"I'm entering help\")\n",
        "        line_bot_api = LineBotApi(access_token)\n",
        "        reply_token = event['replyToken']\n",
        "        line_bot_api.reply_message(reply_token, TextSendMessage(\"Trigger help\"))\n",
        "        self.go_back()"
      ],
      "metadata": {
        "id": "W09rFANfUOSF"
      },
      "execution_count": 6,
      "outputs": []
    },
    {
      "cell_type": "markdown",
      "source": [
        "## app function"
      ],
      "metadata": {
        "id": "_fjwLZK1MEJh"
      }
    },
    {
      "cell_type": "code",
      "source": [
        "from flask_ngrok import run_with_ngrok\n",
        "from flask import Flask, request, send_file\n",
        "\n",
        "from linebot import LineBotApi, WebhookHandler\n",
        "from linebot.exceptions import InvalidSignatureError\n",
        "from linebot.models import MessageEvent, TextMessage, TextSendMessage\n",
        "\n",
        "import json\n",
        "\n",
        "states=[\"user\", \"reserve\", \"cancel\", \"help\"]\n",
        "\n",
        "machine = TocMachine(\n",
        "    states=[\"user\", \"reserve\", \"cancel\", \"help\"],\n",
        "    transitions=[\n",
        "        {\n",
        "            \"trigger\": \"advance\",\n",
        "            \"source\": \"user\",\n",
        "            \"dest\": \"reserve\",\n",
        "            \"conditions\": \"is_going_to_reserve\",\n",
        "        },\n",
        "        {\n",
        "            \"trigger\": \"advance\",\n",
        "            \"source\": \"user\",\n",
        "            \"dest\": \"cancel\",\n",
        "            \"conditions\": \"is_going_to_cancel\",\n",
        "        },\n",
        "        {\n",
        "            \"trigger\": \"advance\",\n",
        "            \"source\": \"user\",\n",
        "            \"dest\": \"help\",\n",
        "            \"conditions\": \"is_going_to_help\",\n",
        "        },\n",
        "        {\"trigger\": \"go_back\", \"source\": [\"reserve\", \"cancel\", \"help\"], \"dest\": \"user\"},\n",
        "    ],\n",
        "    initial=\"user\",\n",
        "    auto_transitions=False,\n",
        "    show_conditions=True,\n",
        ")\n",
        "\n",
        "app = Flask(__name__)\n",
        "\n",
        "@app.route(\"/\", methods=['POST'])\n",
        "def linebot():\n",
        "    body = request.get_data(as_text=True)\n",
        "    json_data = json.loads(body)                    \n",
        "    try:                         \n",
        "        line_bot_api = LineBotApi(access_token)              \n",
        "        handler = WebhookHandler(secret)                     \n",
        "        signature = request.headers['X-Line-Signature']      \n",
        "        handler.handle(body, signature)\n",
        "        tk = json_data['events'][0]['replyToken']\n",
        "        \n",
        "        if(json_data['events'][0][\"type\"] != 'message'):\n",
        "            line_bot_api.reply_message(tk, TextSendMessage(\"請輸入有效指令\")) \n",
        "        elif(json_data[\"events\"][0][\"message\"][\"type\"] != 'text'):\n",
        "            line_bot_api.reply_message(tk, TextSendMessage(\"請輸入有效指令\"))\n",
        "        elif(json_data[\"events\"][0][\"message\"][\"text\"] not in states):\n",
        "            line_bot_api.reply_message(tk, TextSendMessage(\"請輸入有效指令\"))  \n",
        "        else:                    \n",
        "            machine.advance(json_data[\"events\"][0])\n",
        "        print(f\"\\nFSM STATE: {machine.state}\")\n",
        "        print(f\"REQUEST BODY: \\n{body}\")\n",
        "                                    \n",
        "    except:\n",
        "        print() \n",
        "\n",
        "      \n",
        "\n",
        "    return 'OK'   \n",
        "\n",
        "@app.route(\"/show-fsm\", methods=[\"GET\"])\n",
        "def show_fsm():\n",
        "    machine.get_graph().draw(\"fsm.png\", prog=\"dot\", format=\"png\")\n",
        "    return send_file(\"fsm.png\", mimetype=\"image/png\")\n",
        "\n",
        "if __name__ == \"__main__\":\n",
        "  run_with_ngrok(app)      \n",
        "  app.run()"
      ],
      "metadata": {
        "colab": {
          "base_uri": "https://localhost:8080/"
        },
        "id": "cVS02fQLUPX0",
        "outputId": "4790e52f-dcdb-4f71-bf03-a50cc6983d70"
      },
      "execution_count": 7,
      "outputs": [
        {
          "output_type": "stream",
          "name": "stderr",
          "text": [
            "WARNING:transitions.extensions.diagrams:Could not import pygraphviz backend. Will try graphviz backend next\n",
            "\u001b[33m * Tip: There are .env or .flaskenv files present. Do \"pip install python-dotenv\" to use them.\u001b[0m\n"
          ]
        },
        {
          "output_type": "stream",
          "name": "stdout",
          "text": [
            " * Serving Flask app \"__main__\" (lazy loading)\n",
            " * Environment: production\n",
            "\u001b[31m   WARNING: This is a development server. Do not use it in a production deployment.\u001b[0m\n",
            "\u001b[2m   Use a production WSGI server instead.\u001b[0m\n",
            " * Debug mode: off\n"
          ]
        },
        {
          "output_type": "stream",
          "name": "stderr",
          "text": [
            "INFO:werkzeug: * Running on http://127.0.0.1:5000/ (Press CTRL+C to quit)\n"
          ]
        },
        {
          "output_type": "stream",
          "name": "stdout",
          "text": [
            " * Running on http://84aa-34-73-142-124.ngrok.io\n",
            " * Traffic stats available on http://127.0.0.1:4040\n"
          ]
        },
        {
          "output_type": "stream",
          "name": "stderr",
          "text": [
            "INFO:werkzeug:127.0.0.1 - - [23/Dec/2022 14:12:21] \"\u001b[37mPOST / HTTP/1.1\u001b[0m\" 200 -\n"
          ]
        },
        {
          "output_type": "stream",
          "name": "stdout",
          "text": [
            "\n",
            "I'm entering reserve\n"
          ]
        },
        {
          "output_type": "stream",
          "name": "stderr",
          "text": [
            "INFO:werkzeug:127.0.0.1 - - [23/Dec/2022 14:12:31] \"\u001b[37mPOST / HTTP/1.1\u001b[0m\" 200 -\n"
          ]
        },
        {
          "output_type": "stream",
          "name": "stdout",
          "text": [
            "Leaving reserve\n",
            "\n",
            "FSM STATE: user\n",
            "REQUEST BODY: \n",
            "{\"destination\":\"Ua07c9542212fcff4aef26ed06613a24c\",\"events\":[{\"type\":\"message\",\"message\":{\"type\":\"text\",\"id\":\"17346419498239\",\"text\":\"reserve\"},\"webhookEventId\":\"01GMZN82FNP3F7TABSFWF25DM8\",\"deliveryContext\":{\"isRedelivery\":false},\"timestamp\":1671804749817,\"source\":{\"type\":\"user\",\"userId\":\"Ud3c585c73761c3bff026fe8fb8806743\"},\"replyToken\":\"77d98aa28c954f129473159ede4916b6\",\"mode\":\"active\"}]}\n",
            "I'm entering cancel\n"
          ]
        },
        {
          "output_type": "stream",
          "name": "stderr",
          "text": [
            "INFO:werkzeug:127.0.0.1 - - [23/Dec/2022 14:12:41] \"\u001b[37mPOST / HTTP/1.1\u001b[0m\" 200 -\n"
          ]
        },
        {
          "output_type": "stream",
          "name": "stdout",
          "text": [
            "\n",
            "FSM STATE: user\n",
            "REQUEST BODY: \n",
            "{\"destination\":\"Ua07c9542212fcff4aef26ed06613a24c\",\"events\":[{\"type\":\"message\",\"message\":{\"type\":\"text\",\"id\":\"17346420272653\",\"text\":\"cancel\"},\"webhookEventId\":\"01GMZN8C8DW0W0S8HJNNZH5ETY\",\"deliveryContext\":{\"isRedelivery\":false},\"timestamp\":1671804759828,\"source\":{\"type\":\"user\",\"userId\":\"Ud3c585c73761c3bff026fe8fb8806743\"},\"replyToken\":\"846431f1e49a44129d518c969e8fb0fa\",\"mode\":\"active\"}]}\n",
            "I'm entering help\n"
          ]
        },
        {
          "output_type": "stream",
          "name": "stderr",
          "text": [
            "INFO:werkzeug:127.0.0.1 - - [23/Dec/2022 14:12:45] \"\u001b[37mPOST / HTTP/1.1\u001b[0m\" 200 -\n"
          ]
        },
        {
          "output_type": "stream",
          "name": "stdout",
          "text": [
            "\n",
            "FSM STATE: user\n",
            "REQUEST BODY: \n",
            "{\"destination\":\"Ua07c9542212fcff4aef26ed06613a24c\",\"events\":[{\"type\":\"message\",\"message\":{\"type\":\"text\",\"id\":\"17346420668460\",\"text\":\"help\"},\"webhookEventId\":\"01GMZN8GVJXHR4WP283R0D67BA\",\"deliveryContext\":{\"isRedelivery\":false},\"timestamp\":1671804764894,\"source\":{\"type\":\"user\",\"userId\":\"Ud3c585c73761c3bff026fe8fb8806743\"},\"replyToken\":\"6d6ef2809d1a4818a8c004eeee59e84e\",\"mode\":\"active\"}]}\n"
          ]
        }
      ]
    },
    {
      "cell_type": "markdown",
      "source": [
        "## test"
      ],
      "metadata": {
        "id": "S90vAH52UrVM"
      }
    },
    {
      "cell_type": "code",
      "source": [
        "from zmq.constants import TCP_KEEPALIVE_CNT\n",
        "from transitions.extensions import GraphMachine\n",
        "\n",
        "class TocMachine(GraphMachine):\n",
        "    def __init__(self, **machine_configs):\n",
        "        self.machine = GraphMachine(model=self, **machine_configs)\n",
        "        \n",
        "    def is_going_to_reserve_double_check(self, event):\n",
        "        text = event['message']['text']\n",
        "        line_bot_api = LineBotApi(access_token)\n",
        "        reply_token = event['replyToken']\n",
        "        if text.lower() not in [\"yes\", \"no\"]:\n",
        "          txt = \"請輸入(yes/no)\"\n",
        "          line_bot_api.reply_message(reply_token, TextSendMessage(txt))\n",
        "        return text.lower() in [\"yes\", \"no\"]\n",
        "\n",
        "    def is_going_to_cancel_double_check(self, event):\n",
        "        text = event['message']['text']\n",
        "        if text.lower() not in [\"yes\", \"no\"]:\n",
        "          txt = \"請輸入(yes/no)\"\n",
        "          line_bot_api = LineBotApi(access_token)\n",
        "          reply_token = event['replyToken']\n",
        "          line_bot_api.reply_message(reply_token, TextSendMessage(txt))\n",
        "        return text.lower() in [\"yes\", \"no\"]\n",
        "\n",
        "    def is_going_to_reserve(self, event):\n",
        "        text = event['message']['text']\n",
        "        reply_token = event['replyToken']\n",
        "        line_bot_api = LineBotApi(access_token)\n",
        "        if text.lower() == \"reserve\":\n",
        "          txt = \"請確認預約(yes/no)\"\n",
        "        elif text.lower() == \"cancel\":\n",
        "          txt = \"尚未預約\"\n",
        "        else:\n",
        "          txt = \"指令錯誤，可輸入help查詢\"\n",
        "        line_bot_api.reply_message(reply_token, TextSendMessage(txt))\n",
        "        return text.lower() == \"reserve\"\n",
        "\n",
        "    def is_going_to_cancel(self, event):\n",
        "        text = event['message']['text']\n",
        "        reply_token = event['replyToken']\n",
        "        line_bot_api = LineBotApi(access_token)\n",
        "        if text.lower() == \"cancel\":\n",
        "          txt = \"請確認預約(yes/no)\"\n",
        "        elif text.lower() == \"reserve\":\n",
        "          txt = \"尚未預約\"\n",
        "        else:\n",
        "          txt = \"指令錯誤，可輸入help查詢\"\n",
        "        line_bot_api.reply_message(reply_token, TextSendMessage(txt))\n",
        "        return text.lower() == \"cancel\"\n",
        "\n",
        "    def is_going_to_help(self, event):\n",
        "        text = event['message']['text']\n",
        "        if text.lower() == \"help\":\n",
        "          txt = \"可使用指令:\\n\\t\"+\"reserve\\t: 預約\\n\\t\"+\"cancel\\t: 取消預約\\n\\t\"+\"help\\t: 指令列\"\n",
        "          line_bot_api = LineBotApi(access_token)\n",
        "          reply_token = event['replyToken']\n",
        "          line_bot_api.reply_message(reply_token, TextSendMessage(txt))\n",
        "        return False\n",
        "\n",
        "    def on_enter_reserve(self, event):\n",
        "        print(\"I'm entering reserve\")\n",
        "\n",
        "    def on_enter_cancel(self, event):\n",
        "        print(\"I'm entering cancel\")\n",
        "\n",
        "    def on_enter_double_check_reserve(self, event):\n",
        "        print(\"I'm entering double check\")\n",
        "        text = event['message']['text']\n",
        "        if text.lower() == \"no\":\n",
        "            self.go_to_user()\n",
        "        else:\n",
        "            self.go_to_user_reserve()\n",
        "        \n",
        "\n",
        "\n",
        "    def on_enter_double_check_cancel(self, event):\n",
        "        print(\"I'm entering double check\")\n",
        "        text = event['message']['text']\n",
        "        if text.lower() == \"yes\":\n",
        "            self.go_to_user()\n",
        "        else:\n",
        "            self.go_to_user_reserve()"
      ],
      "metadata": {
        "id": "3YX6As_QMAug"
      },
      "execution_count": 51,
      "outputs": []
    },
    {
      "cell_type": "code",
      "source": [
        "from flask_ngrok import run_with_ngrok\n",
        "from flask import Flask, request, send_file\n",
        "\n",
        "from linebot import LineBotApi, WebhookHandler\n",
        "from linebot.exceptions import InvalidSignatureError\n",
        "from linebot.models import MessageEvent, TextMessage, TextSendMessage\n",
        "\n",
        "import json\n",
        "\n",
        "states=[\"yes\", \"no\", \"reserve\", \"cancel\", \"help\"]\n",
        "\n",
        "machine = TocMachine(\n",
        "    states=[\"user\", \"user_reserve\", \"reserve\", \"cancel\", \"help\", \"double_check_reserve\", \"double_check_cancel\"],\n",
        "    transitions=[\n",
        "        {\n",
        "            \"trigger\": \"advance\",\n",
        "            \"source\": \"user\",\n",
        "            \"dest\": \"reserve\",\n",
        "            \"conditions\": \"is_going_to_reserve\",\n",
        "        },\n",
        "        {\n",
        "            \"trigger\": \"advance\",\n",
        "            \"source\": \"user\",\n",
        "            \"dest\": \"cancel\",\n",
        "            \"conditions\": \"is_going_to_cancel\",\n",
        "        },\n",
        "        {\n",
        "            \"trigger\": \"advance\",\n",
        "            \"source\": [\"user\", \"user_reserve\", \"reserve\", \"cancel\", \"double_check_reserve\", \"double_check_cancel\"],\n",
        "            \"dest\": \"help\",\n",
        "            \"conditions\": \"is_going_to_help\",\n",
        "        },\n",
        "        {\n",
        "            \"trigger\": \"advance\",\n",
        "            \"source\": \"reserve\",\n",
        "            \"dest\": \"double_check_reserve\",\n",
        "            \"conditions\": \"is_going_to_double_check_reserve\",\n",
        "        },\n",
        "        {\n",
        "            \"trigger\": \"advance\",\n",
        "            \"source\": \"cancel\",\n",
        "            \"dest\": \"double_check_cancel\",\n",
        "            \"conditions\": \"is_going_to_double_check_cancel\",\n",
        "        },\n",
        "        {\"trigger\": \"go_to_user\", \"source\": [\"double_check_reserve\", \"double_check_cancel\"], \"dest\": \"user\"},\n",
        "        {\"trigger\": \"go_to_user_reserve\", \"source\": [\"double_check_reserve\", \"double_check_cancel\"], \"dest\": \"user_reserve\"},\n",
        "        {\"trigger\": \"go_back\", \"source\": [\"user_reserve\", \"reserve\", \"cancel\", \"double_check_reserve\", \"double_check_cancel\"], \"dest\": \"user_reserve\"},\n",
        "    ],\n",
        "    initial=\"user\",\n",
        "    auto_transitions=False,\n",
        "    show_conditions=True,\n",
        ")\n",
        "\n",
        "app = Flask(__name__)\n",
        "\n",
        "@app.route(\"/\", methods=['POST'])\n",
        "def linebot():\n",
        "    body = request.get_data(as_text=True)\n",
        "    json_data = json.loads(body)                    \n",
        "    try:                         \n",
        "        line_bot_api = LineBotApi(access_token)              \n",
        "        handler = WebhookHandler(secret)                     \n",
        "        signature = request.headers['X-Line-Signature']      \n",
        "        handler.handle(body, signature)\n",
        "        tk = json_data['events'][0]['replyToken']\n",
        "        \n",
        "        if(json_data['events'][0][\"type\"] != 'message'):\n",
        "            line_bot_api.reply_message(tk, TextSendMessage(\"請輸入有效指令，可以使用help查詢\")) \n",
        "        elif(json_data[\"events\"][0][\"message\"][\"type\"] != 'text'):\n",
        "            line_bot_api.reply_message(tk, TextSendMessage(\"請輸入有效指令，可以使用help查詢\"))\n",
        "        elif(json_data[\"events\"][0][\"message\"][\"text\"] not in states):\n",
        "            line_bot_api.reply_message(tk, TextSendMessage(\"請輸入有效指令，可以使用help查詢\"))  \n",
        "        else:                    \n",
        "            machine.advance(json_data[\"events\"][0])\n",
        "        print(f\"\\nFSM STATE: {machine.state}\")\n",
        "        print(f\"REQUEST BODY: \\n{body}\")\n",
        "                                    \n",
        "    except:\n",
        "        print() \n",
        "\n",
        "      \n",
        "\n",
        "    return 'OK'   \n",
        "\n",
        "@app.route(\"/show-fsm\", methods=[\"GET\"])\n",
        "def show_fsm():\n",
        "    machine.get_graph().draw(\"fsm.png\", prog=\"dot\", format=\"png\")\n",
        "    return send_file(\"fsm.png\", mimetype=\"image/png\")\n",
        "\n",
        "if __name__ == \"__main__\":\n",
        "  #show_fsm()\n",
        "  run_with_ngrok(app)      \n",
        "  app.run()"
      ],
      "metadata": {
        "colab": {
          "base_uri": "https://localhost:8080/"
        },
        "id": "LSWDgYy1MG3o",
        "outputId": "90a93be0-c62f-49af-83b6-3b81e2387ba7"
      },
      "execution_count": 52,
      "outputs": [
        {
          "output_type": "stream",
          "name": "stderr",
          "text": [
            "WARNING:transitions.extensions.diagrams:Could not import pygraphviz backend. Will try graphviz backend next\n",
            "\u001b[33m * Tip: There are .env or .flaskenv files present. Do \"pip install python-dotenv\" to use them.\u001b[0m\n"
          ]
        },
        {
          "output_type": "stream",
          "name": "stdout",
          "text": [
            " * Serving Flask app \"__main__\" (lazy loading)\n",
            " * Environment: production\n",
            "\u001b[31m   WARNING: This is a development server. Do not use it in a production deployment.\u001b[0m\n",
            "\u001b[2m   Use a production WSGI server instead.\u001b[0m\n",
            " * Debug mode: off\n"
          ]
        },
        {
          "output_type": "stream",
          "name": "stderr",
          "text": [
            "INFO:werkzeug: * Running on http://127.0.0.1:5000/ (Press CTRL+C to quit)\n"
          ]
        },
        {
          "output_type": "stream",
          "name": "stdout",
          "text": [
            " * Running on http://1876-34-86-146-171.ngrok.io\n",
            " * Traffic stats available on http://127.0.0.1:4040\n"
          ]
        },
        {
          "output_type": "stream",
          "name": "stderr",
          "text": [
            "INFO:werkzeug:127.0.0.1 - - [23/Dec/2022 12:49:10] \"\u001b[37mPOST / HTTP/1.1\u001b[0m\" 200 -\n"
          ]
        },
        {
          "output_type": "stream",
          "name": "stdout",
          "text": [
            "\n"
          ]
        },
        {
          "output_type": "stream",
          "name": "stderr",
          "text": [
            "INFO:werkzeug:127.0.0.1 - - [23/Dec/2022 12:49:17] \"\u001b[37mPOST / HTTP/1.1\u001b[0m\" 200 -\n"
          ]
        },
        {
          "output_type": "stream",
          "name": "stdout",
          "text": [
            "I'm entering reserve\n",
            "\n",
            "FSM STATE: reserve\n",
            "REQUEST BODY: \n",
            "{\"destination\":\"Ua07c9542212fcff4aef26ed06613a24c\",\"events\":[{\"type\":\"message\",\"message\":{\"type\":\"text\",\"id\":\"17345996630571\",\"text\":\"reserve\"},\"webhookEventId\":\"01GMZGFNY3NWDTJ92Q62Y1MGEP\",\"deliveryContext\":{\"isRedelivery\":false},\"timestamp\":1671799756230,\"source\":{\"type\":\"user\",\"userId\":\"Ud3c585c73761c3bff026fe8fb8806743\"},\"replyToken\":\"3c9f7352875744ad98bae698892f1334\",\"mode\":\"active\"}]}\n"
          ]
        },
        {
          "output_type": "stream",
          "name": "stderr",
          "text": [
            "INFO:werkzeug:127.0.0.1 - - [23/Dec/2022 12:49:21] \"\u001b[37mPOST / HTTP/1.1\u001b[0m\" 200 -\n"
          ]
        },
        {
          "output_type": "stream",
          "name": "stdout",
          "text": [
            "\n"
          ]
        },
        {
          "output_type": "stream",
          "name": "stderr",
          "text": [
            "INFO:werkzeug:127.0.0.1 - - [23/Dec/2022 12:49:46] \"\u001b[37mPOST / HTTP/1.1\u001b[0m\" 200 -\n"
          ]
        },
        {
          "output_type": "stream",
          "name": "stdout",
          "text": [
            "\n"
          ]
        },
        {
          "output_type": "stream",
          "name": "stderr",
          "text": [
            "INFO:werkzeug:127.0.0.1 - - [23/Dec/2022 12:50:15] \"\u001b[37mPOST / HTTP/1.1\u001b[0m\" 200 -\n"
          ]
        },
        {
          "output_type": "stream",
          "name": "stdout",
          "text": [
            "\n"
          ]
        }
      ]
    }
  ]
}