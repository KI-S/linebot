{
  "nbformat": 4,
  "nbformat_minor": 0,
  "metadata": {
    "colab": {
      "provenance": []
    },
    "kernelspec": {
      "name": "python3",
      "display_name": "Python 3"
    },
    "language_info": {
      "name": "python"
    }
  },
  "cells": [
    {
      "cell_type": "markdown",
      "source": [
        "## init install"
      ],
      "metadata": {
        "id": "EICxvcMHLXDR"
      }
    },
    {
      "cell_type": "code",
      "execution_count": null,
      "metadata": {
        "id": "1L8ouq9eLPyv"
      },
      "outputs": [],
      "source": [
        "!pip install django\n",
        "!pip install line-bot-sdk\n",
        "!pip install beautifulsoup4\n",
        "!pip install requests\n",
        "!pip install transitions"
      ]
    },
    {
      "cell_type": "markdown",
      "source": [
        "## load google drive and creat ngrok file"
      ],
      "metadata": {
        "id": "B74ZHc9WLeCh"
      }
    },
    {
      "cell_type": "code",
      "source": [
        "from google.colab import drive\n",
        "drive.mount('/content/drive', force_remount=True)\n",
        "\n",
        "!mkdir -p /drive\n",
        "#umount /drive\n",
        "!mount --bind /content/drive/My\\ Drive /drive\n",
        "!mkdir -p /drive/ngrok-ssh\n",
        "!mkdir -p ~/.ssh\n",
        "\n",
        "!mkdir -p /drive/ngrok-ssh\n",
        "%cd /drive/ngrok-ssh\n",
        "!wget https://bin.equinox.io/c/4VmDzA7iaHb/ngrok-stable-linux-amd64.zip -O ngrok-stable-linux-amd64.zip\n",
        "!unzip -u ngrok-stable-linux-amd64.zip\n",
        "!cp /drive/ngrok-ssh/ngrok /ngrok\n",
        "!chmod +x /ngrok"
      ],
      "metadata": {
        "id": "EteTsZQPLWoo"
      },
      "execution_count": null,
      "outputs": []
    },
    {
      "cell_type": "markdown",
      "source": [
        "## ngrok"
      ],
      "metadata": {
        "id": "Xi5BluomLolZ"
      }
    },
    {
      "cell_type": "code",
      "source": [
        "!/ngrok authtoken 2JARutcFOzH6UTqWcwl5byNtTEh_3xyGd9rVQuHe9zTVNcyXt\n",
        "!pip install flask_ngrok"
      ],
      "metadata": {
        "id": "DquuJ7oZLwoc"
      },
      "execution_count": null,
      "outputs": []
    },
    {
      "cell_type": "markdown",
      "source": [
        "## linebot token and access"
      ],
      "metadata": {
        "id": "UbmdSTseLyvQ"
      }
    },
    {
      "cell_type": "code",
      "source": [
        "access_token = '093OyYqGonM6q3yRXZcRg5WtTP0m3P7ia1WuwgcP91lYqaHb6Bx1sbW2G5YayruFh+hJyTOjdWECR0zFDBgRyieQU/vLUFDqHs2Z+lyKfuj7ZSRycGgxV8wSDZxlWgR/wSvqKSucv80Be0TGqUFkRwdB04t89/1O/w1cDnyilFU='\n",
        "secret = 'bf79fc94041fac8f854c411bc57ed460'"
      ],
      "metadata": {
        "id": "I7woTgmQL6WT"
      },
      "execution_count": 4,
      "outputs": []
    },
    {
      "cell_type": "markdown",
      "source": [
        "## fsm function"
      ],
      "metadata": {
        "id": "Em_FYTmSL7xg"
      }
    },
    {
      "cell_type": "code",
      "source": [
        "from zmq.constants import TCP_KEEPALIVE_CNT\n",
        "from transitions.extensions import GraphMachine\n",
        "\n",
        "class TocMachine(GraphMachine):\n",
        "    def __init__(self, **machine_configs):\n",
        "        self.machine = GraphMachine(model=self, **machine_configs)\n",
        "\n",
        "    def is_going_to_reserve(self, event):\n",
        "        text = event['message']['text']\n",
        "        return text.lower() == \"reserve\"\n",
        "\n",
        "    def is_going_to_cancel(self, event):\n",
        "        text = event['message']['text']\n",
        "        return text.lower() == \"cancel\"\n",
        "\n",
        "    def is_going_to_help(self, event):\n",
        "        text = event['message']['text']\n",
        "        return text.lower() == \"help\"\n",
        "\n",
        "    def on_enter_reserve(self, event):\n",
        "        print(\"I'm entering reserve\")\n",
        "        line_bot_api = LineBotApi(access_token)\n",
        "        reply_token = event['replyToken']\n",
        "        line_bot_api.reply_message(reply_token, TextSendMessage(text=\"預約成功\"))\n",
        "        self.go_back()\n",
        "\n",
        "    def on_enter_cancel(self, event):\n",
        "        print(\"I'm entering cancel\")\n",
        "        line_bot_api = LineBotApi(access_token)\n",
        "        reply_token = event['replyToken']\n",
        "        line_bot_api.reply_message(reply_token, TextSendMessage(\"取消成功\"))\n",
        "        self.go_back()\n",
        "\n",
        "    def on_enter_help(self, event):\n",
        "        print(\"I'm entering help\")\n",
        "        txt = \"可用指令:\\n\"+\"\\t\"+\"reserve\"+\"\\t\"+\" 預約\\n\"+\"\\t\"+\"cancel\"+\"\\t\"+\" 取消預約\\n\"+\"\\t\"+\"help\"+\"\\t\"+\" 指令查詢\\n\"\n",
        "        line_bot_api = LineBotApi(access_token)\n",
        "        reply_token = event['replyToken']\n",
        "        line_bot_api.reply_message(reply_token, TextSendMessage(txt))\n",
        "        self.go_back()"
      ],
      "metadata": {
        "id": "W09rFANfUOSF"
      },
      "execution_count": 5,
      "outputs": []
    },
    {
      "cell_type": "markdown",
      "source": [
        "## app function"
      ],
      "metadata": {
        "id": "_fjwLZK1MEJh"
      }
    },
    {
      "cell_type": "code",
      "source": [
        "from flask_ngrok import run_with_ngrok\n",
        "from flask import Flask, request, send_file\n",
        "\n",
        "from linebot import LineBotApi, WebhookHandler\n",
        "from linebot.exceptions import InvalidSignatureError\n",
        "from linebot.models import MessageEvent, TextMessage, TextSendMessage\n",
        "\n",
        "import json\n",
        "\n",
        "states=[\"user\", \"reserve\", \"cancel\", \"help\"]\n",
        "\n",
        "machine = TocMachine(\n",
        "    states=[\"user\", \"reserve\", \"cancel\", \"help\"],\n",
        "    transitions=[\n",
        "        {\n",
        "            \"trigger\": \"advance\",\n",
        "            \"source\": \"user\",\n",
        "            \"dest\": \"reserve\",\n",
        "            \"conditions\": \"is_going_to_reserve\",\n",
        "        },\n",
        "        {\n",
        "            \"trigger\": \"advance\",\n",
        "            \"source\": \"user\",\n",
        "            \"dest\": \"cancel\",\n",
        "            \"conditions\": \"is_going_to_cancel\",\n",
        "        },\n",
        "        {\n",
        "            \"trigger\": \"advance\",\n",
        "            \"source\": \"user\",\n",
        "            \"dest\": \"help\",\n",
        "            \"conditions\": \"is_going_to_help\",\n",
        "        },\n",
        "        {\"trigger\": \"go_back\", \"source\": [\"reserve\", \"cancel\", \"help\"], \"dest\": \"user\"},\n",
        "    ],\n",
        "    initial=\"user\",\n",
        "    auto_transitions=False,\n",
        "    show_conditions=True,\n",
        ")\n",
        "\n",
        "app = Flask(__name__)\n",
        "\n",
        "@app.route(\"/\", methods=['POST'])\n",
        "def linebot():\n",
        "    body = request.get_data(as_text=True)\n",
        "    json_data = json.loads(body)                    \n",
        "    try:                         \n",
        "        line_bot_api = LineBotApi(access_token)              \n",
        "        handler = WebhookHandler(secret)                     \n",
        "        signature = request.headers['X-Line-Signature']      \n",
        "        handler.handle(body, signature)\n",
        "        tk = json_data['events'][0]['replyToken']\n",
        "        \n",
        "        if(json_data['events'][0][\"type\"] != 'message'):\n",
        "            line_bot_api.reply_message(tk, TextSendMessage(\"請輸入有效指令，可使用help查詢\")) \n",
        "        elif(json_data[\"events\"][0][\"message\"][\"type\"] != 'text'):\n",
        "            line_bot_api.reply_message(tk, TextSendMessage(\"請輸入有效指令，可使用help查詢\"))\n",
        "        elif(json_data[\"events\"][0][\"message\"][\"text\"] not in states):\n",
        "            line_bot_api.reply_message(tk, TextSendMessage(\"請輸入有效指令，可使用help查詢\"))  \n",
        "        else:                    \n",
        "            machine.advance(json_data[\"events\"][0])\n",
        "        print(f\"\\nFSM STATE: {machine.state}\")\n",
        "        print(f\"REQUEST BODY: \\n{body}\")\n",
        "                                    \n",
        "    except:\n",
        "        print() \n",
        "\n",
        "      \n",
        "\n",
        "    return 'OK'   \n",
        "\n",
        "@app.route(\"/show-fsm\", methods=[\"GET\"])\n",
        "def show_fsm():\n",
        "    machine.get_graph().draw(\"fsm.png\", prog=\"dot\", format=\"png\")\n",
        "    return send_file(\"fsm.png\", mimetype=\"image/png\")\n",
        "\n",
        "if __name__ == \"__main__\":\n",
        "  run_with_ngrok(app)      \n",
        "  app.run()"
      ],
      "metadata": {
        "id": "cVS02fQLUPX0"
      },
      "execution_count": null,
      "outputs": []
    },
    {
      "cell_type": "markdown",
      "source": [
        "## test"
      ],
      "metadata": {
        "id": "S90vAH52UrVM"
      }
    },
    {
      "cell_type": "code",
      "source": [
        "from zmq.constants import TCP_KEEPALIVE_CNT\n",
        "from transitions.extensions import GraphMachine\n",
        "\n",
        "class TocMachine(GraphMachine):\n",
        "    def __init__(self, **machine_configs):\n",
        "        self.machine = GraphMachine(model=self, **machine_configs)\n",
        "        \n",
        "    def is_going_to_reserve_double_check(self, event):\n",
        "        text = event['message']['text']\n",
        "        line_bot_api = LineBotApi(access_token)\n",
        "        reply_token = event['replyToken']\n",
        "        if text.lower() not in [\"yes\", \"no\"]:\n",
        "          txt = \"請輸入(yes/no)\"\n",
        "          line_bot_api.reply_message(reply_token, TextSendMessage(txt))\n",
        "        return text.lower() in [\"yes\", \"no\"]\n",
        "\n",
        "    def is_going_to_cancel_double_check(self, event):\n",
        "        text = event['message']['text']\n",
        "        if text.lower() not in [\"yes\", \"no\"]:\n",
        "          txt = \"請輸入(yes/no)\"\n",
        "          line_bot_api = LineBotApi(access_token)\n",
        "          reply_token = event['replyToken']\n",
        "          line_bot_api.reply_message(reply_token, TextSendMessage(txt))\n",
        "        return text.lower() in [\"yes\", \"no\"]\n",
        "\n",
        "    def is_going_to_reserve(self, event):\n",
        "        text = event['message']['text']\n",
        "        reply_token = event['replyToken']\n",
        "        line_bot_api = LineBotApi(access_token)\n",
        "        if text.lower() == \"reserve\":\n",
        "          txt = \"請確認預約(yes/no)\"\n",
        "        elif text.lower() == \"cancel\":\n",
        "          txt = \"尚未預約\"\n",
        "        else:\n",
        "          txt = \"指令錯誤，可輸入help查詢\"\n",
        "        line_bot_api.reply_message(reply_token, TextSendMessage(txt))\n",
        "        return text.lower() == \"reserve\"\n",
        "\n",
        "    def is_going_to_cancel(self, event):\n",
        "        text = event['message']['text']\n",
        "        reply_token = event['replyToken']\n",
        "        line_bot_api = LineBotApi(access_token)\n",
        "        if text.lower() == \"cancel\":\n",
        "          txt = \"請確認預約(yes/no)\"\n",
        "        elif text.lower() == \"reserve\":\n",
        "          txt = \"尚未預約\"\n",
        "        else:\n",
        "          txt = \"指令錯誤，可輸入help查詢\"\n",
        "        line_bot_api.reply_message(reply_token, TextSendMessage(txt))\n",
        "        return text.lower() == \"cancel\"\n",
        "\n",
        "    def is_going_to_help(self, event):\n",
        "        text = event['message']['text']\n",
        "        if text.lower() == \"help\":\n",
        "          txt = \"可使用指令:\\n\\t\"+\"reserve\\t: 預約\\n\\t\"+\"cancel\\t: 取消預約\\n\\t\"+\"help\\t: 指令列\"\n",
        "          line_bot_api = LineBotApi(access_token)\n",
        "          reply_token = event['replyToken']\n",
        "          line_bot_api.reply_message(reply_token, TextSendMessage(txt))\n",
        "        return False\n",
        "\n",
        "    def on_enter_reserve(self, event):\n",
        "        print(\"I'm entering reserve\")\n",
        "\n",
        "    def on_enter_cancel(self, event):\n",
        "        print(\"I'm entering cancel\")\n",
        "\n",
        "    def on_enter_double_check_reserve(self, event):\n",
        "        print(\"I'm entering double check\")\n",
        "        text = event['message']['text']\n",
        "        if text.lower() == \"no\":\n",
        "            self.go_to_user()\n",
        "        else:\n",
        "            self.go_to_user_reserve()\n",
        "        \n",
        "\n",
        "\n",
        "    def on_enter_double_check_cancel(self, event):\n",
        "        print(\"I'm entering double check\")\n",
        "        text = event['message']['text']\n",
        "        if text.lower() == \"yes\":\n",
        "            self.go_to_user()\n",
        "        else:\n",
        "            self.go_to_user_reserve()"
      ],
      "metadata": {
        "id": "3YX6As_QMAug"
      },
      "execution_count": 51,
      "outputs": []
    },
    {
      "cell_type": "code",
      "source": [
        "from flask_ngrok import run_with_ngrok\n",
        "from flask import Flask, request, send_file\n",
        "\n",
        "from linebot import LineBotApi, WebhookHandler\n",
        "from linebot.exceptions import InvalidSignatureError\n",
        "from linebot.models import MessageEvent, TextMessage, TextSendMessage\n",
        "\n",
        "import json\n",
        "\n",
        "states=[\"yes\", \"no\", \"reserve\", \"cancel\", \"help\"]\n",
        "\n",
        "machine = TocMachine(\n",
        "    states=[\"user\", \"user_reserve\", \"reserve\", \"cancel\", \"help\", \"double_check_reserve\", \"double_check_cancel\"],\n",
        "    transitions=[\n",
        "        {\n",
        "            \"trigger\": \"advance\",\n",
        "            \"source\": \"user\",\n",
        "            \"dest\": \"reserve\",\n",
        "            \"conditions\": \"is_going_to_reserve\",\n",
        "        },\n",
        "        {\n",
        "            \"trigger\": \"advance\",\n",
        "            \"source\": \"user\",\n",
        "            \"dest\": \"cancel\",\n",
        "            \"conditions\": \"is_going_to_cancel\",\n",
        "        },\n",
        "        {\n",
        "            \"trigger\": \"advance\",\n",
        "            \"source\": [\"user\", \"user_reserve\", \"reserve\", \"cancel\", \"double_check_reserve\", \"double_check_cancel\"],\n",
        "            \"dest\": \"help\",\n",
        "            \"conditions\": \"is_going_to_help\",\n",
        "        },\n",
        "        {\n",
        "            \"trigger\": \"advance\",\n",
        "            \"source\": \"reserve\",\n",
        "            \"dest\": \"double_check_reserve\",\n",
        "            \"conditions\": \"is_going_to_double_check_reserve\",\n",
        "        },\n",
        "        {\n",
        "            \"trigger\": \"advance\",\n",
        "            \"source\": \"cancel\",\n",
        "            \"dest\": \"double_check_cancel\",\n",
        "            \"conditions\": \"is_going_to_double_check_cancel\",\n",
        "        },\n",
        "        {\"trigger\": \"go_to_user\", \"source\": [\"double_check_reserve\", \"double_check_cancel\"], \"dest\": \"user\"},\n",
        "        {\"trigger\": \"go_to_user_reserve\", \"source\": [\"double_check_reserve\", \"double_check_cancel\"], \"dest\": \"user_reserve\"},\n",
        "        {\"trigger\": \"go_back\", \"source\": [\"user_reserve\", \"reserve\", \"cancel\", \"double_check_reserve\", \"double_check_cancel\"], \"dest\": \"user_reserve\"},\n",
        "    ],\n",
        "    initial=\"user\",\n",
        "    auto_transitions=False,\n",
        "    show_conditions=True,\n",
        ")\n",
        "\n",
        "app = Flask(__name__)\n",
        "\n",
        "@app.route(\"/\", methods=['POST'])\n",
        "def linebot():\n",
        "    body = request.get_data(as_text=True)\n",
        "    json_data = json.loads(body)                    \n",
        "    try:                         \n",
        "        line_bot_api = LineBotApi(access_token)              \n",
        "        handler = WebhookHandler(secret)                     \n",
        "        signature = request.headers['X-Line-Signature']      \n",
        "        handler.handle(body, signature)\n",
        "        tk = json_data['events'][0]['replyToken']\n",
        "        \n",
        "        if(json_data['events'][0][\"type\"] != 'message'):\n",
        "            line_bot_api.reply_message(tk, TextSendMessage(\"請輸入有效指令，可以使用help查詢\")) \n",
        "        elif(json_data[\"events\"][0][\"message\"][\"type\"] != 'text'):\n",
        "            line_bot_api.reply_message(tk, TextSendMessage(\"請輸入有效指令，可以使用help查詢\"))\n",
        "        elif(json_data[\"events\"][0][\"message\"][\"text\"] not in states):\n",
        "            line_bot_api.reply_message(tk, TextSendMessage(\"請輸入有效指令，可以使用help查詢\"))  \n",
        "        else:                    \n",
        "            machine.advance(json_data[\"events\"][0])\n",
        "        print(f\"\\nFSM STATE: {machine.state}\")\n",
        "        print(f\"REQUEST BODY: \\n{body}\")\n",
        "                                    \n",
        "    except:\n",
        "        print() \n",
        "\n",
        "      \n",
        "\n",
        "    return 'OK'   \n",
        "\n",
        "@app.route(\"/show-fsm\", methods=[\"GET\"])\n",
        "def show_fsm():\n",
        "    machine.get_graph().draw(\"fsm.png\", prog=\"dot\", format=\"png\")\n",
        "    return send_file(\"fsm.png\", mimetype=\"image/png\")\n",
        "\n",
        "if __name__ == \"__main__\":\n",
        "  #show_fsm()\n",
        "  run_with_ngrok(app)      \n",
        "  app.run()"
      ],
      "metadata": {
        "colab": {
          "base_uri": "https://localhost:8080/"
        },
        "id": "LSWDgYy1MG3o",
        "outputId": "90a93be0-c62f-49af-83b6-3b81e2387ba7"
      },
      "execution_count": 52,
      "outputs": [
        {
          "output_type": "stream",
          "name": "stderr",
          "text": [
            "WARNING:transitions.extensions.diagrams:Could not import pygraphviz backend. Will try graphviz backend next\n",
            "\u001b[33m * Tip: There are .env or .flaskenv files present. Do \"pip install python-dotenv\" to use them.\u001b[0m\n"
          ]
        },
        {
          "output_type": "stream",
          "name": "stdout",
          "text": [
            " * Serving Flask app \"__main__\" (lazy loading)\n",
            " * Environment: production\n",
            "\u001b[31m   WARNING: This is a development server. Do not use it in a production deployment.\u001b[0m\n",
            "\u001b[2m   Use a production WSGI server instead.\u001b[0m\n",
            " * Debug mode: off\n"
          ]
        },
        {
          "output_type": "stream",
          "name": "stderr",
          "text": [
            "INFO:werkzeug: * Running on http://127.0.0.1:5000/ (Press CTRL+C to quit)\n"
          ]
        },
        {
          "output_type": "stream",
          "name": "stdout",
          "text": [
            " * Running on http://1876-34-86-146-171.ngrok.io\n",
            " * Traffic stats available on http://127.0.0.1:4040\n"
          ]
        },
        {
          "output_type": "stream",
          "name": "stderr",
          "text": [
            "INFO:werkzeug:127.0.0.1 - - [23/Dec/2022 12:49:10] \"\u001b[37mPOST / HTTP/1.1\u001b[0m\" 200 -\n"
          ]
        },
        {
          "output_type": "stream",
          "name": "stdout",
          "text": [
            "\n"
          ]
        },
        {
          "output_type": "stream",
          "name": "stderr",
          "text": [
            "INFO:werkzeug:127.0.0.1 - - [23/Dec/2022 12:49:17] \"\u001b[37mPOST / HTTP/1.1\u001b[0m\" 200 -\n"
          ]
        },
        {
          "output_type": "stream",
          "name": "stdout",
          "text": [
            "I'm entering reserve\n",
            "\n",
            "FSM STATE: reserve\n",
            "REQUEST BODY: \n",
            "{\"destination\":\"Ua07c9542212fcff4aef26ed06613a24c\",\"events\":[{\"type\":\"message\",\"message\":{\"type\":\"text\",\"id\":\"17345996630571\",\"text\":\"reserve\"},\"webhookEventId\":\"01GMZGFNY3NWDTJ92Q62Y1MGEP\",\"deliveryContext\":{\"isRedelivery\":false},\"timestamp\":1671799756230,\"source\":{\"type\":\"user\",\"userId\":\"Ud3c585c73761c3bff026fe8fb8806743\"},\"replyToken\":\"3c9f7352875744ad98bae698892f1334\",\"mode\":\"active\"}]}\n"
          ]
        },
        {
          "output_type": "stream",
          "name": "stderr",
          "text": [
            "INFO:werkzeug:127.0.0.1 - - [23/Dec/2022 12:49:21] \"\u001b[37mPOST / HTTP/1.1\u001b[0m\" 200 -\n"
          ]
        },
        {
          "output_type": "stream",
          "name": "stdout",
          "text": [
            "\n"
          ]
        },
        {
          "output_type": "stream",
          "name": "stderr",
          "text": [
            "INFO:werkzeug:127.0.0.1 - - [23/Dec/2022 12:49:46] \"\u001b[37mPOST / HTTP/1.1\u001b[0m\" 200 -\n"
          ]
        },
        {
          "output_type": "stream",
          "name": "stdout",
          "text": [
            "\n"
          ]
        },
        {
          "output_type": "stream",
          "name": "stderr",
          "text": [
            "INFO:werkzeug:127.0.0.1 - - [23/Dec/2022 12:50:15] \"\u001b[37mPOST / HTTP/1.1\u001b[0m\" 200 -\n"
          ]
        },
        {
          "output_type": "stream",
          "name": "stdout",
          "text": [
            "\n"
          ]
        }
      ]
    }
  ]
}